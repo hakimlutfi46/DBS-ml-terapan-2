{
 "cells": [
  {
   "cell_type": "markdown",
   "id": "30b28b59",
   "metadata": {},
   "source": [
    "# Import Library"
   ]
  },
  {
   "cell_type": "code",
   "execution_count": 91,
   "id": "5d79ad87",
   "metadata": {},
   "outputs": [],
   "source": [
    "import pandas as pd\n",
    "import matplotlib.pyplot as plt\n",
    "import seaborn as sns\n",
    "from sklearn.feature_extraction.text import TfidfVectorizer\n",
    "from sklearn.feature_extraction.text import TfidfVectorizer\n",
    "from sklearn.metrics.pairwise import cosine_similarity"
   ]
  },
  {
   "cell_type": "markdown",
   "id": "8dc550ad",
   "metadata": {},
   "source": [
    "# Load Data"
   ]
  },
  {
   "cell_type": "code",
   "execution_count": 77,
   "id": "7674d8b5",
   "metadata": {},
   "outputs": [
    {
     "data": {
      "text/html": [
       "<div>\n",
       "<style scoped>\n",
       "    .dataframe tbody tr th:only-of-type {\n",
       "        vertical-align: middle;\n",
       "    }\n",
       "\n",
       "    .dataframe tbody tr th {\n",
       "        vertical-align: top;\n",
       "    }\n",
       "\n",
       "    .dataframe thead th {\n",
       "        text-align: right;\n",
       "    }\n",
       "</style>\n",
       "<table border=\"1\" class=\"dataframe\">\n",
       "  <thead>\n",
       "    <tr style=\"text-align: right;\">\n",
       "      <th></th>\n",
       "      <th>Unnamed: 0</th>\n",
       "      <th>Book</th>\n",
       "      <th>Author</th>\n",
       "      <th>Description</th>\n",
       "      <th>Genres</th>\n",
       "      <th>Avg_Rating</th>\n",
       "      <th>Num_Ratings</th>\n",
       "      <th>URL</th>\n",
       "    </tr>\n",
       "  </thead>\n",
       "  <tbody>\n",
       "    <tr>\n",
       "      <th>0</th>\n",
       "      <td>0</td>\n",
       "      <td>To Kill a Mockingbird</td>\n",
       "      <td>Harper Lee</td>\n",
       "      <td>The unforgettable novel of a childhood in a sl...</td>\n",
       "      <td>['Classics', 'Fiction', 'Historical Fiction', ...</td>\n",
       "      <td>4.27</td>\n",
       "      <td>5,691,311</td>\n",
       "      <td>https://www.goodreads.com/book/show/2657.To_Ki...</td>\n",
       "    </tr>\n",
       "    <tr>\n",
       "      <th>1</th>\n",
       "      <td>1</td>\n",
       "      <td>Harry Potter and the Philosopher’s Stone (Harr...</td>\n",
       "      <td>J.K. Rowling</td>\n",
       "      <td>Harry Potter thinks he is an ordinary boy - un...</td>\n",
       "      <td>['Fantasy', 'Fiction', 'Young Adult', 'Magic',...</td>\n",
       "      <td>4.47</td>\n",
       "      <td>9,278,135</td>\n",
       "      <td>https://www.goodreads.com/book/show/72193.Harr...</td>\n",
       "    </tr>\n",
       "    <tr>\n",
       "      <th>2</th>\n",
       "      <td>2</td>\n",
       "      <td>Pride and Prejudice</td>\n",
       "      <td>Jane Austen</td>\n",
       "      <td>Since its immediate success in 1813, Pride and...</td>\n",
       "      <td>['Classics', 'Fiction', 'Romance', 'Historical...</td>\n",
       "      <td>4.28</td>\n",
       "      <td>3,944,155</td>\n",
       "      <td>https://www.goodreads.com/book/show/1885.Pride...</td>\n",
       "    </tr>\n",
       "    <tr>\n",
       "      <th>3</th>\n",
       "      <td>3</td>\n",
       "      <td>The Diary of a Young Girl</td>\n",
       "      <td>Anne Frank</td>\n",
       "      <td>Discovered in the attic in which she spent the...</td>\n",
       "      <td>['Classics', 'Nonfiction', 'History', 'Biograp...</td>\n",
       "      <td>4.18</td>\n",
       "      <td>3,488,438</td>\n",
       "      <td>https://www.goodreads.com/book/show/48855.The_...</td>\n",
       "    </tr>\n",
       "    <tr>\n",
       "      <th>4</th>\n",
       "      <td>4</td>\n",
       "      <td>Animal Farm</td>\n",
       "      <td>George Orwell</td>\n",
       "      <td>Librarian's note: There is an Alternate Cover ...</td>\n",
       "      <td>['Classics', 'Fiction', 'Dystopia', 'Fantasy',...</td>\n",
       "      <td>3.98</td>\n",
       "      <td>3,575,172</td>\n",
       "      <td>https://www.goodreads.com/book/show/170448.Ani...</td>\n",
       "    </tr>\n",
       "  </tbody>\n",
       "</table>\n",
       "</div>"
      ],
      "text/plain": [
       "   Unnamed: 0                                               Book  \\\n",
       "0           0                              To Kill a Mockingbird   \n",
       "1           1  Harry Potter and the Philosopher’s Stone (Harr...   \n",
       "2           2                                Pride and Prejudice   \n",
       "3           3                          The Diary of a Young Girl   \n",
       "4           4                                        Animal Farm   \n",
       "\n",
       "          Author                                        Description  \\\n",
       "0     Harper Lee  The unforgettable novel of a childhood in a sl...   \n",
       "1   J.K. Rowling  Harry Potter thinks he is an ordinary boy - un...   \n",
       "2    Jane Austen  Since its immediate success in 1813, Pride and...   \n",
       "3     Anne Frank  Discovered in the attic in which she spent the...   \n",
       "4  George Orwell  Librarian's note: There is an Alternate Cover ...   \n",
       "\n",
       "                                              Genres  Avg_Rating Num_Ratings  \\\n",
       "0  ['Classics', 'Fiction', 'Historical Fiction', ...        4.27   5,691,311   \n",
       "1  ['Fantasy', 'Fiction', 'Young Adult', 'Magic',...        4.47   9,278,135   \n",
       "2  ['Classics', 'Fiction', 'Romance', 'Historical...        4.28   3,944,155   \n",
       "3  ['Classics', 'Nonfiction', 'History', 'Biograp...        4.18   3,488,438   \n",
       "4  ['Classics', 'Fiction', 'Dystopia', 'Fantasy',...        3.98   3,575,172   \n",
       "\n",
       "                                                 URL  \n",
       "0  https://www.goodreads.com/book/show/2657.To_Ki...  \n",
       "1  https://www.goodreads.com/book/show/72193.Harr...  \n",
       "2  https://www.goodreads.com/book/show/1885.Pride...  \n",
       "3  https://www.goodreads.com/book/show/48855.The_...  \n",
       "4  https://www.goodreads.com/book/show/170448.Ani...  "
      ]
     },
     "execution_count": 77,
     "metadata": {},
     "output_type": "execute_result"
    }
   ],
   "source": [
    "df = pd.read_csv('goodreads_data.csv')\n",
    "df.head()"
   ]
  },
  {
   "cell_type": "markdown",
   "id": "5178ecd8",
   "metadata": {},
   "source": [
    "# EDA"
   ]
  },
  {
   "cell_type": "code",
   "execution_count": 78,
   "id": "1cc01234",
   "metadata": {},
   "outputs": [
    {
     "data": {
      "text/plain": [
       "(10000, 8)"
      ]
     },
     "execution_count": 78,
     "metadata": {},
     "output_type": "execute_result"
    }
   ],
   "source": [
    "df.shape"
   ]
  },
  {
   "cell_type": "code",
   "execution_count": 79,
   "id": "015f051e",
   "metadata": {},
   "outputs": [
    {
     "name": "stdout",
     "output_type": "stream",
     "text": [
      "<class 'pandas.core.frame.DataFrame'>\n",
      "RangeIndex: 10000 entries, 0 to 9999\n",
      "Data columns (total 8 columns):\n",
      " #   Column       Non-Null Count  Dtype  \n",
      "---  ------       --------------  -----  \n",
      " 0   Unnamed: 0   10000 non-null  int64  \n",
      " 1   Book         10000 non-null  object \n",
      " 2   Author       10000 non-null  object \n",
      " 3   Description  9923 non-null   object \n",
      " 4   Genres       10000 non-null  object \n",
      " 5   Avg_Rating   10000 non-null  float64\n",
      " 6   Num_Ratings  10000 non-null  object \n",
      " 7   URL          10000 non-null  object \n",
      "dtypes: float64(1), int64(1), object(6)\n",
      "memory usage: 625.1+ KB\n"
     ]
    }
   ],
   "source": [
    "df.info()"
   ]
  },
  {
   "cell_type": "code",
   "execution_count": 80,
   "id": "c946cae6",
   "metadata": {},
   "outputs": [
    {
     "data": {
      "text/plain": [
       "Unnamed: 0      0\n",
       "Book            0\n",
       "Author          0\n",
       "Description    77\n",
       "Genres          0\n",
       "Avg_Rating      0\n",
       "Num_Ratings     0\n",
       "URL             0\n",
       "dtype: int64"
      ]
     },
     "execution_count": 80,
     "metadata": {},
     "output_type": "execute_result"
    }
   ],
   "source": [
    "df.isnull().sum()"
   ]
  },
  {
   "cell_type": "code",
   "execution_count": 81,
   "id": "f8a1b648",
   "metadata": {},
   "outputs": [
    {
     "data": {
      "text/plain": [
       "array([\"['Classics', 'Fiction', 'Historical Fiction', 'School', 'Literature', 'Young Adult', 'Historical']\",\n",
       "       \"['Fantasy', 'Fiction', 'Young Adult', 'Magic', 'Childrens', 'Middle Grade', 'Classics']\",\n",
       "       \"['Classics', 'Fiction', 'Romance', 'Historical Fiction', 'Literature', 'Historical', 'Audiobook']\",\n",
       "       ...,\n",
       "       \"['Dystopia', 'Science Fiction', 'Post Apocalyptic', 'Paranormal', 'Fantasy']\",\n",
       "       \"['Fiction', 'Horror', 'Dystopia', 'Coming Of Age']\",\n",
       "       \"['New Adult', 'Romance', 'Contemporary Romance', 'Contemporary']\"],\n",
       "      dtype=object)"
      ]
     },
     "execution_count": 81,
     "metadata": {},
     "output_type": "execute_result"
    }
   ],
   "source": [
    "df['Genres'].unique()"
   ]
  },
  {
   "cell_type": "code",
   "execution_count": 90,
   "id": "e26c96a9",
   "metadata": {},
   "outputs": [
    {
     "data": {
      "text/plain": [
       "Avg_Rating\n",
       "4.00    202\n",
       "4.12    158\n",
       "4.18    154\n",
       "4.09    153\n",
       "4.14    152\n",
       "       ... \n",
       "3.16      1\n",
       "3.04      1\n",
       "2.97      1\n",
       "2.03      1\n",
       "3.05      1\n",
       "Name: count, Length: 211, dtype: int64"
      ]
     },
     "execution_count": 90,
     "metadata": {},
     "output_type": "execute_result"
    }
   ],
   "source": [
    "df['Avg_Rating'].value_counts()"
   ]
  },
  {
   "cell_type": "markdown",
   "id": "e0a4fb3e",
   "metadata": {},
   "source": [
    "**Insight**\n",
    "- Dapat diketahui pada dataset tersebut memiliki 10.000 baris dan 8 kolom.\n",
    "- Missing value terdeteksi sebanyak 77 di kolom `Description`, namun kolom yang lainnya lengkap.\n",
    "- **Genre**: Variasi besar, sebagian besar genre adalah **Fiction** dan **Fantasy**.\n",
    "- **Rating**: Mayoritas buku memiliki rating tinggi, dengan rating **4.00** yang paling sering muncul.\n",
    "- **Kolom `Num_Ratings`**: Tipe data `object` perlu dikonversi menjadi numerik setelah menghapus tanda koma.\n",
    "- Tahap selanjutnya perlu pembersihan pada kolom `Genres` dan `Description`, serta konversi tipe data di `Num_Ratings` untuk analisis lebih lanjut.\n"
   ]
  },
  {
   "cell_type": "markdown",
   "id": "c4d35668",
   "metadata": {},
   "source": [
    "# Data Preparation"
   ]
  },
  {
   "cell_type": "code",
   "execution_count": 83,
   "id": "2bbebfd2",
   "metadata": {},
   "outputs": [],
   "source": [
    "# Menghapus kolom yang tidak diperlukan\n",
    "df_cleaned = df.drop(columns=['Unnamed: 0', 'URL'])"
   ]
  },
  {
   "cell_type": "code",
   "execution_count": 84,
   "id": "793155ab",
   "metadata": {},
   "outputs": [],
   "source": [
    "# Menghapus koma pada kolom 'Num_Ratings'\n",
    "df_cleaned['Num_Ratings'] = df_cleaned['Num_Ratings'].str.replace(',', '')\n",
    "\n",
    "# Mengonversi kolom 'Num_Ratings' menjadi float64\n",
    "df_cleaned['Num_Ratings'] = pd.to_numeric(df_cleaned['Num_Ratings'], errors='coerce')"
   ]
  },
  {
   "cell_type": "code",
   "execution_count": 85,
   "id": "94daaa99",
   "metadata": {},
   "outputs": [
    {
     "name": "stderr",
     "output_type": "stream",
     "text": [
      "C:\\Users\\dumbw\\AppData\\Local\\Temp\\ipykernel_8184\\3979502448.py:2: FutureWarning: A value is trying to be set on a copy of a DataFrame or Series through chained assignment using an inplace method.\n",
      "The behavior will change in pandas 3.0. This inplace method will never work because the intermediate object on which we are setting values always behaves as a copy.\n",
      "\n",
      "For example, when doing 'df[col].method(value, inplace=True)', try using 'df.method({col: value}, inplace=True)' or df[col] = df[col].method(value) instead, to perform the operation inplace on the original object.\n",
      "\n",
      "\n",
      "  df_cleaned['Description'].fillna('No Description', inplace=True)\n"
     ]
    }
   ],
   "source": [
    "# Mengisi nilai kosong di kolom 'Description' dengan string kosong\n",
    "df_cleaned['Description'].fillna('No Description', inplace=True)"
   ]
  },
  {
   "cell_type": "code",
   "execution_count": 86,
   "id": "69157101",
   "metadata": {},
   "outputs": [
    {
     "name": "stdout",
     "output_type": "stream",
     "text": [
      "                                                Book  \\\n",
      "0                              To Kill a Mockingbird   \n",
      "1  Harry Potter and the Philosopher’s Stone (Harr...   \n",
      "2                                Pride and Prejudice   \n",
      "3                          The Diary of a Young Girl   \n",
      "4                                        Animal Farm   \n",
      "\n",
      "                                            combined  \n",
      "0  ['Classics', 'Fiction', 'Historical Fiction', ...  \n",
      "1  ['Fantasy', 'Fiction', 'Young Adult', 'Magic',...  \n",
      "2  ['Classics', 'Fiction', 'Romance', 'Historical...  \n",
      "3  ['Classics', 'Nonfiction', 'History', 'Biograp...  \n",
      "4  ['Classics', 'Fiction', 'Dystopia', 'Fantasy',...  \n"
     ]
    }
   ],
   "source": [
    "# Menggabungkan kolom 'Genres', 'Description', 'Author', dan 'Book' menjadi satu kolom teks\n",
    "df_cleaned['combined'] = df_cleaned['Genres'] + ' ' + df_cleaned['Description'] + ' ' + df_cleaned['Author'] + ' ' + df_cleaned['Book']\n",
    "\n",
    "# Melihat data yang telah digabungkan\n",
    "print(df_cleaned[['Book', 'combined']].head())"
   ]
  },
  {
   "cell_type": "markdown",
   "id": "98b6c15d",
   "metadata": {},
   "source": [
    "Berikut adalah insight dari tahap **Data Preparation**:\n",
    "\n",
    "1. **Penghapusan Kolom yang Tidak Diperlukan**: Kolom `Unnamed: 0` dan `URL` dihapus karena tidak relevan untuk analisis lebih lanjut.\n",
    "\n",
    "2. **Pembersihan Data `Num_Ratings`**: Tanda koma (`,`) dihapus dari kolom `Num_Ratings`, kemudian kolom ini dikonversi ke tipe data numerik (`float64`) untuk analisis yang lebih akurat.\n",
    "\n",
    "3. **Penanganan Data Kosong**: Nilai kosong pada kolom `Description` diisi dengan string `'No Description'` untuk menghindari masalah saat pengolahan data.\n",
    "\n",
    "4. **Penggabungan Kolom Teks**: Kolom-kolom `Genres`, `Description`, `Author`, dan `Book` digabungkan menjadi satu kolom baru `combined`. Hal ini memungkinkan pemrosesan teks yang lebih efektif untuk analisis dan pencarian kemiripan buku.\n",
    "\n",
    "5. **Output Data Gabungan**: Kolom `combined` kini berisi informasi lengkap tentang genre, deskripsi, penulis, dan nama buku, yang dapat digunakan untuk perhitungan kemiripan teks atau rekomendasi buku.\n",
    "\n",
    "Secara keseluruhan, data telah dipersiapkan dengan baik untuk analisis lebih lanjut seperti pemrosesan teks dan pencarian kemiripan antar buku.\n"
   ]
  },
  {
   "cell_type": "markdown",
   "id": "626b4ffc",
   "metadata": {},
   "source": [
    "# Modeling"
   ]
  },
  {
   "cell_type": "code",
   "execution_count": 87,
   "id": "7b6d8a47",
   "metadata": {},
   "outputs": [
    {
     "name": "stdout",
     "output_type": "stream",
     "text": [
      "[[1.         0.01562193 0.03846026 0.03965998 0.03384114]\n",
      " [0.01562193 1.         0.00418993 0.00601878 0.01892882]\n",
      " [0.03846026 0.00418993 1.         0.01120675 0.03671264]\n",
      " [0.03965998 0.00601878 0.01120675 1.         0.00728016]\n",
      " [0.03384114 0.01892882 0.03671264 0.00728016 1.        ]]\n"
     ]
    }
   ],
   "source": [
    "# Menggunakan TfidfVectorizer untuk menghitung representasi TF-IDF dari teks yang telah digabungkan\n",
    "tfidf = TfidfVectorizer(stop_words='english')\n",
    "\n",
    "# Menghitung matriks TF-IDF\n",
    "tfidf_matrix = tfidf.fit_transform(df_cleaned['combined'])\n",
    "\n",
    "# Menghitung cosine similarity antar buku menggunakan TF-IDF matrix\n",
    "cosine_sim = cosine_similarity(tfidf_matrix, tfidf_matrix)\n",
    "\n",
    "# Menampilkan kemiripan antara 5 buku pertama\n",
    "print(cosine_sim[:5, :5])\n"
   ]
  },
  {
   "cell_type": "code",
   "execution_count": 88,
   "id": "37efc722",
   "metadata": {},
   "outputs": [],
   "source": [
    "def recommend_books(query, cosine_sim=cosine_sim, top_n=5):\n",
    "    # Mengubah kata kunci (query) menjadi representasi TF-IDF\n",
    "    query_tfidf = tfidf.transform([query])\n",
    "    \n",
    "    # Menghitung kemiripan cosine antara query dan buku-buku\n",
    "    cosine_sim_query = cosine_similarity(query_tfidf, tfidf_matrix)\n",
    "    \n",
    "    # Mengurutkan artikel berdasarkan skor kemiripan secara menurun\n",
    "    sim_scores = list(enumerate(cosine_sim_query[0]))\n",
    "    sim_scores = sorted(sim_scores, key=lambda x: x[1], reverse=True)\n",
    "    \n",
    "    # Mengambil top_n buku teratas (mengabaikan buku itu sendiri)\n",
    "    sim_scores = sim_scores[0:top_n]\n",
    "    \n",
    "    # Mendapatkan indeks buku yang direkomendasikan\n",
    "    book_indices = [i[0] for i in sim_scores]\n",
    "    \n",
    "    # Mengembalikan buku yang direkomendasikan berdasarkan genre, rating, dan jumlah rating tertinggi\n",
    "    recommended_books = df_cleaned[['Book', 'Author', 'Genres', 'Avg_Rating', 'Num_Ratings']].iloc[book_indices]\n",
    "    \n",
    "    # Menyortir berdasarkan jumlah rating tertinggi\n",
    "    recommended_books['Num_Ratings'] = recommended_books['Num_Ratings'].apply(pd.to_numeric, errors='coerce')\n",
    "    recommended_books = recommended_books.sort_values(by='Num_Ratings', ascending=False)\n",
    "    \n",
    "    return recommended_books.head(top_n)\n"
   ]
  },
  {
   "cell_type": "code",
   "execution_count": 89,
   "id": "9ea2f654",
   "metadata": {},
   "outputs": [
    {
     "name": "stdout",
     "output_type": "stream",
     "text": [
      "Top 10 recommended books based on the query:\n",
      "                                                   Book              Author  \\\n",
      "234             A People's History of the United States         Howard Zinn   \n",
      "1995           At Home: A Short History of Private Life         Bill Bryson   \n",
      "8359  The Discoverers: A History of Man's Search to ...  Daniel J. Boorstin   \n",
      "8577  The History of the Ancient World: From the Ear...    Susan Wise Bauer   \n",
      "3606           Shit my History Teacher DID NOT tell me!        Karl Wiggins   \n",
      "\n",
      "                                                 Genres  Avg_Rating  \\\n",
      "234   ['History', 'Nonfiction', 'Politics', 'America...        4.07   \n",
      "1995  ['Nonfiction', 'History', 'Audiobook', 'Humor'...        3.98   \n",
      "8359  ['History', 'Nonfiction', 'Science', 'Philosop...        4.12   \n",
      "8577  ['History', 'Nonfiction', 'Ancient History', '...        4.11   \n",
      "3606  ['Nonfiction', 'History', 'Humor', 'Comedy', '...        4.06   \n",
      "\n",
      "      Num_Ratings  \n",
      "234        232434  \n",
      "1995        90975  \n",
      "8359        11451  \n",
      "8577         5208  \n",
      "3606          267  \n"
     ]
    }
   ],
   "source": [
    "recommended_books = recommend_books('history')\n",
    "print(\"Top 10 recommended books based on the query:\")\n",
    "print(recommended_books)"
   ]
  },
  {
   "cell_type": "markdown",
   "id": "c66d2239",
   "metadata": {},
   "source": [
    "Berikut adalah insight dari tahap **Modeling**:\n",
    "\n",
    "1. **Penerapan TF-IDF**: TF-IDF digunakan untuk menghitung representasi teks dari kolom `combined`. Ini memungkinkan analisis berbasis teks yang lebih efektif dengan mengurangi pengaruh kata-kata umum dan memberikan bobot lebih pada kata-kata yang lebih unik dalam setiap buku.\n",
    "\n",
    "2. **Perhitungan Cosine Similarity**: Matriks **cosine similarity** dihitung antar buku berdasarkan representasi TF-IDF mereka. Nilai dalam matriks menunjukkan seberapa mirip setiap pasangan buku berdasarkan gabungan teks mereka. Hasil awal menunjukkan nilai kemiripan antara buku-buku yang sangat rendah, seperti antara buku pertama dan kedua yang hanya memiliki kemiripan 0.0156.\n",
    "\n",
    "3. **Rekomendasi Buku**: Fungsi `recommend_books` digunakan untuk mengembalikan buku-buku yang paling mirip berdasarkan query yang diberikan (misalnya, \"history\"). Buku-buku yang direkomendasikan kemudian disaring berdasarkan jumlah rating yang diterima, memberikan prioritas pada buku yang lebih banyak di-rating.\n",
    "\n",
    "4. **Output Rekomendasi**: Dengan menggunakan kata kunci seperti \"history\", rekomendasi buku dihasilkan berdasarkan kemiripan teks dengan buku-buku lainnya dalam dataset. Hasil tersebut memberikan daftar buku dengan genre terkait, rating, dan jumlah rating yang relevan.\n",
    "\n",
    "Secara keseluruhan, tahap ini berhasil mempersiapkan model rekomendasi berbasis teks menggunakan TF-IDF dan cosine similarity, yang siap untuk memberikan rekomendasi buku berdasarkan kata kunci yang diberikan."
   ]
  },
  {
   "cell_type": "markdown",
   "id": "3cf314b8",
   "metadata": {},
   "source": []
  }
 ],
 "metadata": {
  "kernelspec": {
   "display_name": "base",
   "language": "python",
   "name": "python3"
  },
  "language_info": {
   "codemirror_mode": {
    "name": "ipython",
    "version": 3
   },
   "file_extension": ".py",
   "mimetype": "text/x-python",
   "name": "python",
   "nbconvert_exporter": "python",
   "pygments_lexer": "ipython3",
   "version": "3.12.7"
  }
 },
 "nbformat": 4,
 "nbformat_minor": 5
}
