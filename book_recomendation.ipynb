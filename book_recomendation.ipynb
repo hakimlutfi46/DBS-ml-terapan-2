{
 "cells": [
  {
   "cell_type": "markdown",
   "id": "76b8aca9",
   "metadata": {},
   "source": [
    "# Import Library"
   ]
  },
  {
   "cell_type": "code",
   "execution_count": 1,
   "id": "98db18aa",
   "metadata": {},
   "outputs": [],
   "source": [
    "import pandas as pd\n",
    "import seaborn as sns\n",
    "import numpy as np\n",
    "import ast\n",
    "import matplotlib.pyplot as plt\n",
    "from sklearn.feature_extraction.text import TfidfVectorizer\n",
    "from sklearn.metrics.pairwise import cosine_similarity\n",
    "from sklearn.feature_extraction.text import CountVectorizer"
   ]
  },
  {
   "cell_type": "markdown",
   "id": "ccb2e601",
   "metadata": {},
   "source": [
    "# Data Understanding"
   ]
  },
  {
   "cell_type": "markdown",
   "id": "f6df2fe1",
   "metadata": {},
   "source": [
    "## Load Data"
   ]
  },
  {
   "cell_type": "code",
   "execution_count": 2,
   "id": "7c78fb8f",
   "metadata": {},
   "outputs": [],
   "source": [
    "df = pd.read_csv('goodreads_data.csv')"
   ]
  },
  {
   "cell_type": "markdown",
   "id": "d7722c9b",
   "metadata": {},
   "source": [
    "## Exploratory Data Analysis"
   ]
  },
  {
   "cell_type": "markdown",
   "id": "3d77bd00",
   "metadata": {},
   "source": [
    "### Check Data"
   ]
  },
  {
   "cell_type": "code",
   "execution_count": 3,
   "id": "b4cd56d6",
   "metadata": {},
   "outputs": [
    {
     "data": {
      "text/html": [
       "<div>\n",
       "<style scoped>\n",
       "    .dataframe tbody tr th:only-of-type {\n",
       "        vertical-align: middle;\n",
       "    }\n",
       "\n",
       "    .dataframe tbody tr th {\n",
       "        vertical-align: top;\n",
       "    }\n",
       "\n",
       "    .dataframe thead th {\n",
       "        text-align: right;\n",
       "    }\n",
       "</style>\n",
       "<table border=\"1\" class=\"dataframe\">\n",
       "  <thead>\n",
       "    <tr style=\"text-align: right;\">\n",
       "      <th></th>\n",
       "      <th>Unnamed: 0</th>\n",
       "      <th>Book</th>\n",
       "      <th>Author</th>\n",
       "      <th>Description</th>\n",
       "      <th>Genres</th>\n",
       "      <th>Avg_Rating</th>\n",
       "      <th>Num_Ratings</th>\n",
       "      <th>URL</th>\n",
       "    </tr>\n",
       "  </thead>\n",
       "  <tbody>\n",
       "    <tr>\n",
       "      <th>0</th>\n",
       "      <td>0</td>\n",
       "      <td>To Kill a Mockingbird</td>\n",
       "      <td>Harper Lee</td>\n",
       "      <td>The unforgettable novel of a childhood in a sl...</td>\n",
       "      <td>['Classics', 'Fiction', 'Historical Fiction', ...</td>\n",
       "      <td>4.27</td>\n",
       "      <td>5,691,311</td>\n",
       "      <td>https://www.goodreads.com/book/show/2657.To_Ki...</td>\n",
       "    </tr>\n",
       "    <tr>\n",
       "      <th>1</th>\n",
       "      <td>1</td>\n",
       "      <td>Harry Potter and the Philosopher’s Stone (Harr...</td>\n",
       "      <td>J.K. Rowling</td>\n",
       "      <td>Harry Potter thinks he is an ordinary boy - un...</td>\n",
       "      <td>['Fantasy', 'Fiction', 'Young Adult', 'Magic',...</td>\n",
       "      <td>4.47</td>\n",
       "      <td>9,278,135</td>\n",
       "      <td>https://www.goodreads.com/book/show/72193.Harr...</td>\n",
       "    </tr>\n",
       "    <tr>\n",
       "      <th>2</th>\n",
       "      <td>2</td>\n",
       "      <td>Pride and Prejudice</td>\n",
       "      <td>Jane Austen</td>\n",
       "      <td>Since its immediate success in 1813, Pride and...</td>\n",
       "      <td>['Classics', 'Fiction', 'Romance', 'Historical...</td>\n",
       "      <td>4.28</td>\n",
       "      <td>3,944,155</td>\n",
       "      <td>https://www.goodreads.com/book/show/1885.Pride...</td>\n",
       "    </tr>\n",
       "    <tr>\n",
       "      <th>3</th>\n",
       "      <td>3</td>\n",
       "      <td>The Diary of a Young Girl</td>\n",
       "      <td>Anne Frank</td>\n",
       "      <td>Discovered in the attic in which she spent the...</td>\n",
       "      <td>['Classics', 'Nonfiction', 'History', 'Biograp...</td>\n",
       "      <td>4.18</td>\n",
       "      <td>3,488,438</td>\n",
       "      <td>https://www.goodreads.com/book/show/48855.The_...</td>\n",
       "    </tr>\n",
       "    <tr>\n",
       "      <th>4</th>\n",
       "      <td>4</td>\n",
       "      <td>Animal Farm</td>\n",
       "      <td>George Orwell</td>\n",
       "      <td>Librarian's note: There is an Alternate Cover ...</td>\n",
       "      <td>['Classics', 'Fiction', 'Dystopia', 'Fantasy',...</td>\n",
       "      <td>3.98</td>\n",
       "      <td>3,575,172</td>\n",
       "      <td>https://www.goodreads.com/book/show/170448.Ani...</td>\n",
       "    </tr>\n",
       "  </tbody>\n",
       "</table>\n",
       "</div>"
      ],
      "text/plain": [
       "   Unnamed: 0                                               Book  \\\n",
       "0           0                              To Kill a Mockingbird   \n",
       "1           1  Harry Potter and the Philosopher’s Stone (Harr...   \n",
       "2           2                                Pride and Prejudice   \n",
       "3           3                          The Diary of a Young Girl   \n",
       "4           4                                        Animal Farm   \n",
       "\n",
       "          Author                                        Description  \\\n",
       "0     Harper Lee  The unforgettable novel of a childhood in a sl...   \n",
       "1   J.K. Rowling  Harry Potter thinks he is an ordinary boy - un...   \n",
       "2    Jane Austen  Since its immediate success in 1813, Pride and...   \n",
       "3     Anne Frank  Discovered in the attic in which she spent the...   \n",
       "4  George Orwell  Librarian's note: There is an Alternate Cover ...   \n",
       "\n",
       "                                              Genres  Avg_Rating Num_Ratings  \\\n",
       "0  ['Classics', 'Fiction', 'Historical Fiction', ...        4.27   5,691,311   \n",
       "1  ['Fantasy', 'Fiction', 'Young Adult', 'Magic',...        4.47   9,278,135   \n",
       "2  ['Classics', 'Fiction', 'Romance', 'Historical...        4.28   3,944,155   \n",
       "3  ['Classics', 'Nonfiction', 'History', 'Biograp...        4.18   3,488,438   \n",
       "4  ['Classics', 'Fiction', 'Dystopia', 'Fantasy',...        3.98   3,575,172   \n",
       "\n",
       "                                                 URL  \n",
       "0  https://www.goodreads.com/book/show/2657.To_Ki...  \n",
       "1  https://www.goodreads.com/book/show/72193.Harr...  \n",
       "2  https://www.goodreads.com/book/show/1885.Pride...  \n",
       "3  https://www.goodreads.com/book/show/48855.The_...  \n",
       "4  https://www.goodreads.com/book/show/170448.Ani...  "
      ]
     },
     "execution_count": 3,
     "metadata": {},
     "output_type": "execute_result"
    }
   ],
   "source": [
    "df.head()"
   ]
  },
  {
   "cell_type": "code",
   "execution_count": 4,
   "id": "e0091968",
   "metadata": {},
   "outputs": [
    {
     "data": {
      "text/plain": [
       "(10000, 8)"
      ]
     },
     "execution_count": 4,
     "metadata": {},
     "output_type": "execute_result"
    }
   ],
   "source": [
    "df.shape"
   ]
  },
  {
   "cell_type": "code",
   "execution_count": 5,
   "id": "241d8b0d",
   "metadata": {},
   "outputs": [
    {
     "name": "stdout",
     "output_type": "stream",
     "text": [
      "<class 'pandas.core.frame.DataFrame'>\n",
      "RangeIndex: 10000 entries, 0 to 9999\n",
      "Data columns (total 8 columns):\n",
      " #   Column       Non-Null Count  Dtype  \n",
      "---  ------       --------------  -----  \n",
      " 0   Unnamed: 0   10000 non-null  int64  \n",
      " 1   Book         10000 non-null  object \n",
      " 2   Author       10000 non-null  object \n",
      " 3   Description  9923 non-null   object \n",
      " 4   Genres       10000 non-null  object \n",
      " 5   Avg_Rating   10000 non-null  float64\n",
      " 6   Num_Ratings  10000 non-null  object \n",
      " 7   URL          10000 non-null  object \n",
      "dtypes: float64(1), int64(1), object(6)\n",
      "memory usage: 625.1+ KB\n"
     ]
    }
   ],
   "source": [
    "df.info()"
   ]
  },
  {
   "cell_type": "code",
   "execution_count": 6,
   "id": "3e900014",
   "metadata": {},
   "outputs": [
    {
     "data": {
      "text/plain": [
       "Unnamed: 0      0\n",
       "Book            0\n",
       "Author          0\n",
       "Description    77\n",
       "Genres          0\n",
       "Avg_Rating      0\n",
       "Num_Ratings     0\n",
       "URL             0\n",
       "dtype: int64"
      ]
     },
     "execution_count": 6,
     "metadata": {},
     "output_type": "execute_result"
    }
   ],
   "source": [
    "df.isnull().sum()"
   ]
  },
  {
   "cell_type": "code",
   "execution_count": 7,
   "id": "3789bae5",
   "metadata": {},
   "outputs": [
    {
     "data": {
      "text/plain": [
       "0"
      ]
     },
     "execution_count": 7,
     "metadata": {},
     "output_type": "execute_result"
    }
   ],
   "source": [
    "df.duplicated().sum()"
   ]
  },
  {
   "cell_type": "code",
   "execution_count": 8,
   "id": "d63df3c2",
   "metadata": {},
   "outputs": [
    {
     "data": {
      "text/plain": [
       "array([\"['Classics', 'Fiction', 'Historical Fiction', 'School', 'Literature', 'Young Adult', 'Historical']\",\n",
       "       \"['Fantasy', 'Fiction', 'Young Adult', 'Magic', 'Childrens', 'Middle Grade', 'Classics']\",\n",
       "       \"['Classics', 'Fiction', 'Romance', 'Historical Fiction', 'Literature', 'Historical', 'Audiobook']\",\n",
       "       ...,\n",
       "       \"['Dystopia', 'Science Fiction', 'Post Apocalyptic', 'Paranormal', 'Fantasy']\",\n",
       "       \"['Fiction', 'Horror', 'Dystopia', 'Coming Of Age']\",\n",
       "       \"['New Adult', 'Romance', 'Contemporary Romance', 'Contemporary']\"],\n",
       "      dtype=object)"
      ]
     },
     "execution_count": 8,
     "metadata": {},
     "output_type": "execute_result"
    }
   ],
   "source": [
    "df['Genres'].unique()"
   ]
  },
  {
   "cell_type": "markdown",
   "id": "17d60aea",
   "metadata": {},
   "source": [
    "**Insight**\n",
    "- Dataset berikut memiliki baris 10000 dan 8 kolom\n",
    "- Pada kolom `Num_Ratings` masih memiliki tipe data yang object, yang harusnya kolom tersebut memiliki tipe data float\n",
    "- Terdapat missing value pada kolom `Description` yang nantinya akan ditangani dengan mengisi missing valuenya. Dan untuk duplicated data tidak ditemukan disini.\n",
    "- Pada kolom `Genres` memiliki banyak distribsi dalam satu kolom. Kolom tersebut memiliki format string, ini perlu dilakukan perubahan menjadi list agar memudahkan ketika pengolahan dan perhitungan kesamaan genre."
   ]
  },
  {
   "cell_type": "markdown",
   "id": "39084561",
   "metadata": {},
   "source": [
    "# Data Preparation"
   ]
  },
  {
   "cell_type": "markdown",
   "id": "811a802b",
   "metadata": {},
   "source": [
    "### Preprocessing Data"
   ]
  },
  {
   "cell_type": "code",
   "execution_count": 9,
   "id": "a69e9154",
   "metadata": {},
   "outputs": [
    {
     "name": "stdout",
     "output_type": "stream",
     "text": [
      "                                                Book  \\\n",
      "0                              To Kill a Mockingbird   \n",
      "1  Harry Potter and the Philosopher’s Stone (Harr...   \n",
      "2                                Pride and Prejudice   \n",
      "3                          The Diary of a Young Girl   \n",
      "4                                        Animal Farm   \n",
      "\n",
      "                                            combined  \n",
      "0  Classics  Fiction  Historical Fiction  School ...  \n",
      "1  Fantasy  Fiction  Young Adult  Magic  Children...  \n",
      "2  Classics  Fiction  Romance  Historical Fiction...  \n",
      "3  Classics  Nonfiction  History  Biography  Memo...  \n",
      "4  Classics  Fiction  Dystopia  Fantasy  Politics...  \n"
     ]
    },
    {
     "name": "stderr",
     "output_type": "stream",
     "text": [
      "C:\\Users\\dumbw\\AppData\\Local\\Temp\\ipykernel_19156\\1705519255.py:11: FutureWarning: A value is trying to be set on a copy of a DataFrame or Series through chained assignment using an inplace method.\n",
      "The behavior will change in pandas 3.0. This inplace method will never work because the intermediate object on which we are setting values always behaves as a copy.\n",
      "\n",
      "For example, when doing 'df[col].method(value, inplace=True)', try using 'df.method({col: value}, inplace=True)' or df[col] = df[col].method(value) instead, to perform the operation inplace on the original object.\n",
      "\n",
      "\n",
      "  df_cleaned['Description'].fillna('No Description', inplace=True)\n"
     ]
    }
   ],
   "source": [
    "# Menghapus kolom yang tidak diperlukan\n",
    "df_cleaned = df.drop(columns=['Unnamed: 0', 'URL'])\n",
    "\n",
    "# Menghapus koma pada kolom\n",
    "df_cleaned['Num_Ratings'] = df_cleaned['Num_Ratings'].str.replace(',', '')\n",
    "\n",
    "# Mengonversi kolom 'Num_Ratings' menjadi float64\n",
    "df_cleaned['Num_Ratings'] = pd.to_numeric(df_cleaned['Num_Ratings'], errors='coerce')\n",
    "\n",
    "# Mengisi nilai kosong di kolom 'Description' dengan string kosong\n",
    "df_cleaned['Description'].fillna('No Description', inplace=True)\n",
    "\n",
    "# Mengonversi kolom Genres yang berupa string menjadi list\n",
    "df_cleaned['Genres'] = df_cleaned['Genres'].apply(lambda x: x.strip(\"[]\").replace(\"'\", \"\").split(',') if isinstance(x, str) else x)\n",
    "\n",
    "# Membersihkan genre untuk memastikan kesesuaian format (menggabungkan list menjadi string)\n",
    "df_cleaned['Genres'] = df_cleaned['Genres'].apply(lambda x: ' '.join(x) if isinstance(x, list) else x)\n",
    "\n",
    "# Menggabungkan kolom 'Genres', 'Description', 'Author', dan 'Book' menjadi satu kolom teks\n",
    "df_cleaned['combined'] = df_cleaned['Genres'] + ' ' + df_cleaned['Description'] + ' ' + df_cleaned['Author'] + ' ' + df_cleaned['Book']\n",
    "\n",
    "# Melihat data yang telah digabungkan\n",
    "print(df_cleaned[['Book', 'combined']].head())"
   ]
  },
  {
   "cell_type": "markdown",
   "id": "f870f683",
   "metadata": {},
   "source": [
    "**Insight Preprocessing Data**\n",
    "\n",
    "1. **Menghapus Kolom yang Tidak Diperlukan:**\n",
    "\n",
    "   * Kolom **`Unnamed: 0`** dan **`URL`** dihapus karena tidak memberikan informasi relevan untuk analisis buku atau rekomendasi. Proses ini membantu mengurangi kompleksitas dataset dan memastikan fokus hanya pada data yang benar-benar dibutuhkan untuk analisis.\n",
    "\n",
    "2. **Menghapus Koma pada `Num_Ratings`:**\n",
    "\n",
    "   * Kolom **`Num_Ratings`** mengandung koma dalam nilai numeriknya, yang dapat mengganggu konversi tipe data. Dengan menghapus koma, data menjadi lebih bersih dan siap untuk dikonversi menjadi **float64**, yang memungkinkan kita melakukan analisis numerik yang lebih tepat, seperti pengurutan atau pengelompokan berdasarkan rating.\n",
    "\n",
    "3. **Mengonversi `Num_Ratings` ke Tipe Numerik:**\n",
    "\n",
    "   * Mengubah **`Num_Ratings`** menjadi tipe **float64** memastikan bahwa data bisa dihitung dan dianalisis dengan benar, seperti melakukan pengurutan berdasarkan rating atau melakukan evaluasi terhadap popularitas buku berdasarkan jumlah ulasan.\n",
    "\n",
    "4. **Mengisi Nilai Kosong di `Description`:**\n",
    "\n",
    "   * Nilai kosong pada kolom **`Description`** diisi dengan **\"No Description\"** untuk menjaga integritas data. Ini mencegah terjadinya missing values yang dapat mengganggu pemodelan dan analisis lebih lanjut, memastikan bahwa seluruh dataset lengkap dan dapat diproses tanpa masalah.\n",
    "\n",
    "5. **Mengonversi `Genres` Menjadi List:**\n",
    "\n",
    "   * Kolom **`Genres`** yang awalnya berbentuk string diubah menjadi **list** untuk memudahkan analisis lebih lanjut, terutama dalam menghitung kesamaan genre antar buku. Mengonversi genre menjadi list juga memungkinkan pemrosesan yang lebih efisien ketika mencari buku dengan genre yang serupa.\n",
    "\n",
    "6. **Membersihkan dan Menggabungkan `Genres`:**\n",
    "\n",
    "   * **Genres** yang sebelumnya berupa list kini diubah menjadi string yang dipisahkan oleh spasi untuk memastikan format yang konsisten. Proses ini menjamin bahwa data genre dapat diproses dengan benar dalam analisis kesamaan teks dan meningkatkan keterbacaan dataset.\n",
    "\n",
    "7. **Menggabungkan Kolom `Genres`, `Description`, `Author`, dan `Book`:**\n",
    "\n",
    "   * Menggabungkan kolom-kolom **`Genres`**, **`Description`**, **`Author`**, dan **`Book`** ke dalam satu kolom **`combined`** memungkinkan untuk menghitung kemiripan antar buku berdasarkan keseluruhan konteks (genre, deskripsi, penulis, dan judul buku). Kolom **`combined`** ini merupakan fitur utama untuk model rekomendasi berbasis konten yang akan digunakan untuk menghitung kemiripan antar buku.\n",
    "\n",
    "Proses preprocessing yang dilakukan ini memastikan dataset siap digunakan dalam model **Content-Based Filtering** untuk memberikan rekomendasi buku. Dengan membersihkan dan memformat ulang data, dataset menjadi lebih konsisten dan terstruktur, memudahkan dalam perhitungan kemiripan antara buku berdasarkan konten yang relevan."
   ]
  },
  {
   "cell_type": "markdown",
   "id": "f4ac2fa0",
   "metadata": {},
   "source": [
    "### Feature Engineering"
   ]
  },
  {
   "cell_type": "code",
   "execution_count": 10,
   "id": "12d92168",
   "metadata": {},
   "outputs": [],
   "source": [
    "# Menggunakan TfidfVectorizer untuk menghitung representasi TF-IDF dari teks yang telah digabungkan\n",
    "tfidf = TfidfVectorizer(stop_words='english')\n",
    "\n",
    "# Menghitung matriks TF-IDF\n",
    "tfidf_matrix = tfidf.fit_transform(df_cleaned['combined'])"
   ]
  },
  {
   "cell_type": "code",
   "execution_count": 11,
   "id": "7f8d692f",
   "metadata": {},
   "outputs": [],
   "source": [
    "# Menggunakan CountVectorizer untuk menghitung representasi biner dari teks (deskripsi buku)\n",
    "count_vectorizer = CountVectorizer(stop_words='english')\n",
    "count_matrix = count_vectorizer.fit_transform(df_cleaned['combined'])"
   ]
  },
  {
   "cell_type": "markdown",
   "id": "8ce26ebb",
   "metadata": {},
   "source": [
    "**Insight Feature Engginering**\n",
    "\n",
    "Untuk meningkatkan performa sistem rekomendasi, digunakan teknik **feature engineering** untuk mengubah teks menjadi representasi numerik yang dapat digunakan dalam perhitungan kemiripan antar buku. Dua teknik yang digunakan adalah **TfidfVectorizer** dan **CountVectorizer**.\n",
    "\n",
    "* **TfidfVectorizer**:\n",
    "  `TfidfVectorizer` digunakan untuk mengonversi teks menjadi representasi numerik dengan memperhitungkan **frekuensi kata** dalam dokumen dan **invers frekuensi** kata tersebut dalam koleksi dokumen. Teknik ini memberikan bobot lebih pada kata-kata yang jarang namun relevan, sehingga membantu dalam menangkap kata-kata penting dalam konteks deskripsi dan genre buku.\n",
    "\n",
    "* **CountVectorizer**:\n",
    "  ``CountVectorizer`` mengubah teks menjadi representasi numerik berdasarkan **frekuensi kemunculan kata** dalam dokumen. Teknik ini efektif untuk mengukur kesamaan berdasarkan kata-kata yang muncul dalam teks, terutama dalam deskripsi dan genre buku.\n",
    "\n",
    "---\n",
    "\n",
    "**Alasan Penggunaan**:\n",
    "\n",
    "* **TfidfVectorizer** membantu menangkap kata-kata penting dan relevan dalam deskripsi buku dan genre.\n",
    "* **CountVectorizer** digunakan untuk mengukur kesamaan kata yang lebih eksplisit dalam teks, khususnya untuk elemen genre atau deskripsi yang muncul berulang.\n",
    "\n",
    "Kedua teknik ini meningkatkan kemampuan model untuk menghitung kemiripan antar buku dan memperbaiki akurasi rekomendasi berbasis konten."
   ]
  },
  {
   "cell_type": "markdown",
   "id": "f52d8f89",
   "metadata": {},
   "source": [
    "# Modeling"
   ]
  },
  {
   "cell_type": "markdown",
   "id": "00b5d26d",
   "metadata": {},
   "source": [
    "### Cousine Simmilarity"
   ]
  },
  {
   "cell_type": "code",
   "execution_count": 12,
   "id": "c4e17051",
   "metadata": {},
   "outputs": [
    {
     "name": "stdout",
     "output_type": "stream",
     "text": [
      "Top 5 recommended books based on Cosine Similarity:\n",
      "                                                 Book           Author  \\\n",
      "8508                       Virtual Light (Bridge, #1)   William Gibson   \n",
      "4362              Forever Peace (The Forever War, #3)     Joe Haldeman   \n",
      "5706                      Dear and Glorious Physician  Taylor Caldwell   \n",
      "9616  The Enigma of Arrival: A Novel in Five Sections     V.S. Naipaul   \n",
      "9511                                Collected Fiction      Ruskin Bond   \n",
      "\n",
      "                                                 Genres  Avg_Rating  \\\n",
      "8508  Science Fiction  Cyberpunk  Fiction  Science F...        3.87   \n",
      "4362  Science Fiction  Fiction  Hugo Awards  War  Sc...        3.75   \n",
      "5706  Historical Fiction  Fiction  Religion  Histori...        4.33   \n",
      "9616  Fiction  Literature  Nobel Prize  Novels  Hist...        3.70   \n",
      "9511                      Fiction  India  Short Stories        4.50   \n",
      "\n",
      "      Num_Ratings  \n",
      "8508        24657  \n",
      "4362        20566  \n",
      "5706         7251  \n",
      "9616         1789  \n",
      "9511          114  \n"
     ]
    }
   ],
   "source": [
    "# Menghitung cosine similarity antar buku menggunakan TF-IDF matrix\n",
    "cosine_sim = cosine_similarity(tfidf_matrix, tfidf_matrix)\n",
    "\n",
    "# Fungsi untuk rekomendasi berdasarkan Cosine Similarity\n",
    "def recommend_books_cosine(query, cosine_sim=cosine_sim, top_n=5):\n",
    "    query_tfidf = tfidf.transform([query])\n",
    "    cosine_sim_query = cosine_similarity(query_tfidf, tfidf_matrix)\n",
    "    \n",
    "    sim_scores = list(enumerate(cosine_sim_query[0]))\n",
    "    sim_scores = sorted(sim_scores, key=lambda x: x[1], reverse=True)\n",
    "    \n",
    "    sim_scores = sim_scores[0:top_n]\n",
    "    book_indices = [i[0] for i in sim_scores]\n",
    "    \n",
    "    recommended_books = df_cleaned[['Book', 'Author', 'Genres', 'Avg_Rating', 'Num_Ratings']].iloc[book_indices]\n",
    "    recommended_books['Num_Ratings'] = recommended_books['Num_Ratings'].apply(pd.to_numeric, errors='coerce')\n",
    "    recommended_books = recommended_books.sort_values(by='Num_Ratings', ascending=False)\n",
    "    \n",
    "    return recommended_books.head(top_n)\n",
    "\n",
    "# Menggunakan contoh query\n",
    "recommended_books_cosine = recommend_books_cosine('fiction')\n",
    "print(\"Top 5 recommended books based on Cosine Similarity:\")\n",
    "print(recommended_books_cosine)"
   ]
  },
  {
   "cell_type": "markdown",
   "id": "f3657d51",
   "metadata": {},
   "source": [
    "### Jaccard Distance"
   ]
  },
  {
   "cell_type": "code",
   "execution_count": 13,
   "id": "94c0f48c",
   "metadata": {},
   "outputs": [
    {
     "name": "stdout",
     "output_type": "stream",
     "text": [
      "Top 5 recommended books based on Jaccard Distance:\n",
      "                                      Book          Author  \\\n",
      "8108  The Shipping News by E. Annie Proulx        BookRags   \n",
      "2362                       SHADOW PANTHEON  Eric Nierstedt   \n",
      "7413          A Taste for Green Tangerines   Barbara Bisco   \n",
      "7283                         Making Amends  D.J. Callaghan   \n",
      "5763                        Chasing Dreams  Aaron Jennings   \n",
      "\n",
      "                         Genres  Avg_Rating  Num_Ratings  \n",
      "8108  Fiction  Literary Fiction        4.33          566  \n",
      "2362      Fiction  Contemporary        4.28          146  \n",
      "7413                    Fiction        3.24           71  \n",
      "7283             Fiction  Drama        4.20           51  \n",
      "5763            Travel  Fiction        3.24           37  \n"
     ]
    }
   ],
   "source": [
    "# Fungsi untuk menghitung Jaccard Distance\n",
    "def jaccard_distance(vec1, vec2):\n",
    "    intersection = np.sum(np.minimum(vec1, vec2))  # Jumlah kata yang ada di kedua buku\n",
    "    union = np.sum(np.maximum(vec1, vec2))  # Jumlah kata yang ada di salah satu buku\n",
    "    return 1 - intersection / union  # Jaccard Distance\n",
    "\n",
    "\n",
    "# Fungsi untuk rekomendasi berdasarkan Jaccard Distance\n",
    "def recommend_books_jaccard(query, count_matrix=count_matrix, top_n=5):\n",
    "    query_vec = count_vectorizer.transform([query]).toarray().flatten()  # Mengubah query menjadi vektor biner\n",
    "    jaccard_scores = []\n",
    "    \n",
    "    # Menghitung Jaccard Distance antara query dan setiap buku dalam dataset\n",
    "    for i in range(count_matrix.shape[0]):\n",
    "        book_vec = count_matrix[i].toarray().flatten()\n",
    "        score = jaccard_distance(query_vec, book_vec)\n",
    "        jaccard_scores.append((i, score))\n",
    "    \n",
    "    # Mengurutkan berdasarkan skor Jaccard Distance (semakin kecil nilai, semakin mirip)\n",
    "    jaccard_scores = sorted(jaccard_scores, key=lambda x: x[1])\n",
    "    \n",
    "    # Memilih top_n buku teratas\n",
    "    top_books_indices = [i[0] for i in jaccard_scores[:top_n]]\n",
    "    recommended_books = df_cleaned[['Book', 'Author', 'Genres', 'Avg_Rating', 'Num_Ratings']].iloc[top_books_indices]\n",
    "    recommended_books['Num_Ratings'] = recommended_books['Num_Ratings'].apply(pd.to_numeric, errors='coerce')\n",
    "    recommended_books = recommended_books.sort_values(by='Num_Ratings', ascending=False)\n",
    "    \n",
    "    return recommended_books.head(top_n)\n",
    "\n",
    "# Menggunakan contoh query\n",
    "recommended_books_jaccard = recommend_books_jaccard('fiction')\n",
    "print(\"Top 5 recommended books based on Jaccard Distance:\")\n",
    "print(recommended_books_jaccard)\n"
   ]
  },
  {
   "cell_type": "markdown",
   "id": "8e603d92",
   "metadata": {},
   "source": [
    "**Insight Modeling**\n",
    "\n",
    "### **1. Cosine Similarity:**\n",
    "\n",
    "  * **Cosine Similarity**: Menghitung **Cosine Similarity** antara vektor vektor teks untuk mengukur seberapa mirip dua buku berdasarkan kesamaan dalam deskripsi, genre, penulis, dan judul.\n",
    "\n",
    "* **Hasil yang Diperoleh:**\n",
    "\n",
    "  * Rekomendasi yang diberikan berdasarkan **Cosine Similarity** menunjukkan buku yang memiliki kesamaan **kontekstual** dalam hal deskripsi, genre, dan penulis.\n",
    "\n",
    "  * Buku yang direkomendasikan:\n",
    "\n",
    "    * **Virtual Light** oleh William Gibson\n",
    "    * **Forever Peace** oleh Joe Haldeman\n",
    "    * **Dear and Glorious Physician** oleh Taylor Caldwell\n",
    "    * **The Enigma of Arrival** oleh V.S. Naipaul\n",
    "    * **Collected Fiction** oleh Ruskin Bond\n",
    "\n",
    "  * **Rating dan Popularitas**: Buku yang lebih banyak di-review (seperti **Virtual Light**) lebih tinggi dalam rekomendasi karena pengurutan berdasarkan **`Num_Ratings`**.\n",
    "\n",
    "---\n",
    "\n",
    "### **2. Jaccard Distance:**\n",
    "  \n",
    "  * **Jaccard Distance**: Menghitung **Jaccard Distance** untuk mengukur perbedaan antara dua buku. Jaccard mengukur kesamaan antar set dengan membandingkan jumlah elemen yang sama terhadap jumlah elemen total yang ada di kedua set.\n",
    "\n",
    "* **Hasil yang Diperoleh:**\n",
    "\n",
    "  * Rekomendasi yang diberikan berdasarkan **Jaccard Distance** menunjukkan buku yang memiliki kesamaan **kata kunci** atau elemen **spesifik** dalam deskripsi dan genre.\n",
    "\n",
    "  * Buku yang direkomendasikan:\n",
    "\n",
    "    * **The Shipping News** oleh E. Annie Proulx\n",
    "    * **SHADOW PANTHEON** oleh Eric Nierstedt\n",
    "    * **A Taste for Green Tangerines** oleh Barbara Bisco\n",
    "    * **Making Amends** oleh D.J. Callaghan\n",
    "    * **Chasing Dreams** oleh Aaron Jennings\n",
    "\n",
    "  * **Rating dan Popularitas**: Buku dengan rating tinggi (misalnya **The Shipping News**) lebih tinggi dalam rekomendasi karena pengurutan berdasarkan **`Num_Ratings`**.\n",
    "\n",
    "---\n",
    "\n",
    "### **Kesimpulan:**\n",
    "\n",
    "* **Cosine Similarity** menggunakan representasi **TF-IDF** untuk menghitung kemiripan berdasarkan kesamaan **kontekstual** dalam deskripsi, genre, dan penulis.\n",
    "* **Jaccard Distance** berfokus pada **kesamaan kata** dan **genre** dalam deskripsi buku, yang lebih menekankan pada elemen spesifik yang ada pada kedua buku.\n"
   ]
  },
  {
   "cell_type": "markdown",
   "id": "d288fc23",
   "metadata": {},
   "source": [
    "# Evaluation"
   ]
  },
  {
   "cell_type": "code",
   "execution_count": 14,
   "id": "05d1a055",
   "metadata": {},
   "outputs": [
    {
     "name": "stdout",
     "output_type": "stream",
     "text": [
      "Precision at K for Cosine Similarity: 0.4\n",
      "Precision at K for Jaccard Distance: 0.6\n"
     ]
    }
   ],
   "source": [
    "# Fungsi untuk menghitung Precision at K\n",
    "def precision_at_k(recommended_books, relevant_books, k):\n",
    "    \"\"\"\n",
    "    Menghitung Precision at K\n",
    "    - recommended_books: Daftar buku yang direkomendasikan\n",
    "    - relevant_books: Daftar buku relevan yang sesuai dengan preferensi pengguna\n",
    "    - k: Jumlah buku yang dipertimbangkan dalam rekomendasi\n",
    "    \"\"\"\n",
    "    recommended_at_k = recommended_books[:k]\n",
    "    relevant_at_k = [book for book in recommended_at_k if book in relevant_books]\n",
    "    precision = len(relevant_at_k) / k\n",
    "    return precision\n",
    "\n",
    "# Misalnya, relevan buku adalah buku dengan rating tinggi (> 4)\n",
    "relevant_books_cosine = recommended_books_cosine[recommended_books_cosine['Avg_Rating'] > 4]['Book'].tolist()\n",
    "relevant_books_jaccard = recommended_books_jaccard[recommended_books_jaccard['Avg_Rating'] > 4]['Book'].tolist()\n",
    "\n",
    "# Tentukan k (jumlah rekomendasi)\n",
    "k = 5\n",
    "\n",
    "# Menghitung Precision at K untuk Cosine Similarity\n",
    "precision_cosine = precision_at_k(recommended_books_cosine['Book'].tolist(), relevant_books_cosine, k)\n",
    "print(f\"Precision at K for Cosine Similarity: {precision_cosine}\")\n",
    "\n",
    "# Menghitung Precision at K untuk Jaccard Distance\n",
    "precision_jaccard = precision_at_k(recommended_books_jaccard['Book'].tolist(), relevant_books_jaccard, k)\n",
    "print(f\"Precision at K for Jaccard Distance: {precision_jaccard}\")"
   ]
  },
  {
   "cell_type": "markdown",
   "id": "578f0b28",
   "metadata": {},
   "source": [
    "### **Insight dari Evaluasi Precision at K:**\n",
    "\n",
    "Dari hasil evaluasi **Precision at K** :\n",
    "\n",
    "* **Precision at K for Cosine Similarity: 0.4**\n",
    "* **Precision at K for Jaccard Distance: 0.6**\n",
    "\n",
    "Ini menunjukkan perbandingan antara dua metode (Cosine Similarity dan Jaccard Distance) dalam memberikan rekomendasi yang relevan berdasarkan **rating tinggi** (misalnya rating > 4).\n",
    "\n",
    "### **Penjelasan Lebih Lanjut:**\n",
    "\n",
    "1. **Precision at K for Cosine Similarity (0.4):**\n",
    "\n",
    "   * **Interpretasi:** Hanya **40%** dari **top-5 rekomendasi** berdasarkan **Cosine Similarity** yang relevan dengan preferensi pengguna (misalnya, buku dengan rating lebih tinggi atau genre yang sesuai).\n",
    "   * **Kemungkinan Penyebab:**\n",
    "\n",
    "     * **Cosine Similarity** mengukur **kemiripan konteks** secara keseluruhan, tetapi terkadang bisa memberi hasil yang kurang relevan jika **konteks teksnya mirip** namun tidak berhubungan dengan **preferensi rating tinggi** atau **genre** tertentu.\n",
    "     * Ini bisa terjadi jika **relevansi** yang didasarkan pada **rating tinggi** atau **genre yang cocok** tidak cukup berhubungan dengan teks buku (misalnya, genre atau deskripsi).\n",
    "\n",
    "2. **Precision at K for Jaccard Distance (0.6):**\n",
    "\n",
    "   * **Interpretasi:** **60%** dari **top-5 rekomendasi** berdasarkan **Jaccard Distance** relevan dengan preferensi pengguna (misalnya, buku dengan rating lebih tinggi atau genre yang sesuai).\n",
    "   * **Kemungkinan Penyebab:**\n",
    "\n",
    "     * **Jaccard Distance** lebih fokus pada **kesamaan elemen spesifik** (kata atau genre), yang membuatnya lebih **berorientasi pada kesamaan langsung** dalam deskripsi buku.\n",
    "     * Karena **Jaccard Distance** mengukur **kesamaan kata atau genre**, sistem ini mungkin lebih efektif dalam menangkap **kesamaan yang lebih langsung** dengan **preferensi pengguna** yang lebih sederhana, seperti **rating tinggi** dan genre.\n",
    "\n",
    "---\n",
    "\n",
    "### **Implikasi dari Hasil Evaluasi:**\n",
    "\n",
    "1. **Cosine Similarity:**\n",
    "\n",
    "   * **Kelebihan:** Cosine Similarity cocok ketika kita ingin memberikan rekomendasi berdasarkan **kesamaan konteks keseluruhan** (deskripsi, genre, penulis, dll). Namun, jika pengguna lebih tertarik pada buku dengan **rating tinggi** atau **genre tertentu**, sistem ini mungkin tidak seefektif Jaccard Distance.\n",
    "   * **Peningkatan:** Kamu bisa **menambahkan bobot** untuk genre atau rating agar sistem lebih menekankan pada buku dengan **rating lebih tinggi** dan **kesesuaian genre**.\n",
    "\n",
    "2. **Jaccard Distance:**\n",
    "\n",
    "   * **Kelebihan:** Jaccard lebih menekankan pada **kesamaan elemen langsung**, seperti kata kunci atau genre dalam deskripsi buku. Dengan demikian, **precision** lebih tinggi karena rekomendasi lebih relevan dengan **kesamaan kata** yang spesifik.\n",
    "   * **Peningkatan:** Agar hasil lebih baik, kamu bisa **memperkenalkan bobot** berdasarkan **rating** atau **jumlah rating**, memastikan buku yang lebih populer dan relevan tetap mendapatkan prioritas meskipun mungkin tidak memiliki kesamaan teks yang terlalu tinggi.\n",
    "\n",
    "---\n",
    "\n",
    "### **Kesimpulan:**\n",
    "\n",
    "* **Jaccard Distance** memberikan hasil yang lebih baik dalam hal relevansi rekomendasi, namun kedua metode ini dapat digabungkan atau disesuaikan lebih lanjut untuk meningkatkan kualitas rekomendasi.\n",
    "* **Jaccard Distance** memberikan hasil yang lebih baik dalam hal **Precision at K**, karena ia lebih fokus pada **kesamaan kata atau genre** yang lebih jelas dan langsung.\n",
    "* **Cosine Similarity** meskipun bermanfaat untuk memahami **kesamaan konteks keseluruhan**, mungkin tidak cukup efektif dalam menghasilkan **rekomendasi yang relevan** jika kita lebih mengutamakan **rating tinggi** atau **genre tertentu**.\n"
   ]
  }
 ],
 "metadata": {
  "kernelspec": {
   "display_name": "base",
   "language": "python",
   "name": "python3"
  },
  "language_info": {
   "codemirror_mode": {
    "name": "ipython",
    "version": 3
   },
   "file_extension": ".py",
   "mimetype": "text/x-python",
   "name": "python",
   "nbconvert_exporter": "python",
   "pygments_lexer": "ipython3",
   "version": "3.12.7"
  }
 },
 "nbformat": 4,
 "nbformat_minor": 5
}
